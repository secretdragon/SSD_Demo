{
 "cells": [
  {
   "cell_type": "code",
   "execution_count": 1,
   "metadata": {},
   "outputs": [],
   "source": [
    "import os\n",
    "from PIL import Image\n",
    "import utils"
   ]
  },
  {
   "cell_type": "code",
   "execution_count": 2,
   "metadata": {},
   "outputs": [
    {
     "data": {
      "text/plain": [
       "'/home/wk/gluon_ws/myDetection'"
      ]
     },
     "execution_count": 2,
     "metadata": {},
     "output_type": "execute_result"
    }
   ],
   "source": [
    "os.chdir('/home/wk/gluon_ws/myDetection/')\n",
    "os.getcwd()"
   ]
  },
  {
   "cell_type": "code",
   "execution_count": 3,
   "metadata": {},
   "outputs": [],
   "source": [
    "os.environ['data_root']=data_root='./dataset/data'"
   ]
  },
  {
   "cell_type": "code",
   "execution_count": 4,
   "metadata": {},
   "outputs": [
    {
     "name": "stdout",
     "output_type": "stream",
     "text": [
      "./dataset/data\n"
     ]
    }
   ],
   "source": [
    "print(data_root)"
   ]
  },
  {
   "cell_type": "code",
   "execution_count": 5,
   "metadata": {},
   "outputs": [],
   "source": [
    "# os.chdir('/home/wk/gluon_ws/')\n",
    "os.getcwd()\n",
    "resize = (512,512)"
   ]
  },
  {
   "cell_type": "code",
   "execution_count": 6,
   "metadata": {},
   "outputs": [],
   "source": [
    "for imgname in os.listdir(data_root+'/img'):\n",
    "    imgpath = data_root + \"/img/\" + imgname\n",
    "    img = Image.open(imgpath)\n",
    "    img = img.resize(resize, Image.BILINEAR)\n",
    "    utils.mkdir_if_not_exist(data_root + '/'+'img%d_%d' % (resize[0], resize[1]))\n",
    "    img.save(data_root + '/' + 'img%d_%d' % (resize[0], resize[1]) + \"/\" + imgname)\n",
    "    break"
   ]
  },
  {
   "cell_type": "code",
   "execution_count": 7,
   "metadata": {},
   "outputs": [
    {
     "data": {
      "text/plain": [
       "'./dataset/data/img512_512'"
      ]
     },
     "execution_count": 7,
     "metadata": {},
     "output_type": "execute_result"
    }
   ],
   "source": [
    "\n",
    "'img%d_%d'%(resize[0],resize[1])\n",
    "data_root\n",
    "data_root + '/'+'img%d_%d' % (resize[0], resize[1])"
   ]
  },
  {
   "cell_type": "code",
   "execution_count": 8,
   "metadata": {},
   "outputs": [
    {
     "name": "stdout",
     "output_type": "stream",
     "text": [
      "['64', '2', '5', '0', '0.358750', '0.502000', '0.505250', '0.902000', 'IMG_20180203_120855.jpg']\n",
      "IMG_20180203_120855.\n"
     ]
    }
   ],
   "source": [
    "with open(data_root+'/rec/img_512_512_val.lst') as f:\n",
    "    contents = f.read().split('\\n')\n",
    "    for content in contents:\n",
    "        if content == '':\n",
    "            break\n",
    "        content = content.split('\\t')\n",
    "        print(content)\n",
    "        idx = content[0]\n",
    "        file = content[-1][:-3] + 'xml'\n",
    "        print(content[-1][:-3])\n",
    "        break"
   ]
  },
  {
   "cell_type": "code",
   "execution_count": 9,
   "metadata": {},
   "outputs": [],
   "source": [
    "from utils import parse_voc_xml\n",
    "file = 'IMG_20180203_120557.xml'\n",
    "bndboxs, names, filename = parse_voc_xml(data_root + '/labels/' + file)"
   ]
  },
  {
   "cell_type": "code",
   "execution_count": 10,
   "metadata": {},
   "outputs": [
    {
     "data": {
      "text/plain": [
       "'IMG_20180203_120557.jpg'"
      ]
     },
     "execution_count": 10,
     "metadata": {},
     "output_type": "execute_result"
    }
   ],
   "source": [
    "bndboxs\n",
    "filename"
   ]
  },
  {
   "cell_type": "code",
   "execution_count": 11,
   "metadata": {},
   "outputs": [
    {
     "name": "stdout",
     "output_type": "stream",
     "text": [
      "64\t2\t5\t0\t0.168750\t0.132000\t0.385250\t0.633500\t0\t0.515750\t0.167500\t0.692250\t0.599000\tIMG_20180203_120557.jpg\n",
      "\n"
     ]
    }
   ],
   "source": [
    "## lst format\n",
    "data = idx + '\\t2\\t5\\t'\n",
    "class_names = ['papercup']\n",
    "context=''\n",
    "for bndbox, name in zip(bndboxs,names):\n",
    "    data += '%d\\t%f\\t%f\\t%f\\t%f\\t'%(class_names.index(name),bndbox[0],bndbox[1],bndbox[2],bndbox[3])\n",
    "#     data += filename+'\\t'\n",
    "context += data +filename+'\\n' \n",
    "# print(data)\n",
    "print(context)"
   ]
  },
  {
   "cell_type": "code",
   "execution_count": 12,
   "metadata": {},
   "outputs": [
    {
     "data": {
      "text/plain": [
       "'64\\t2\\t5\\t0\\t0.168750\\t0.132000\\t0.385250\\t0.633500\\t0\\t0.515750\\t0.167500\\t0.692250\\t0.599000\\tIMG_20180203_120557.jpg\\n'"
      ]
     },
     "execution_count": 12,
     "metadata": {},
     "output_type": "execute_result"
    }
   ],
   "source": [
    "context\n"
   ]
  },
  {
   "cell_type": "code",
   "execution_count": 13,
   "metadata": {},
   "outputs": [
    {
     "data": {
      "text/plain": [
       "['64',\n",
       " '2',\n",
       " '5',\n",
       " '0',\n",
       " '0.168750',\n",
       " '0.132000',\n",
       " '0.385250',\n",
       " '0.633500',\n",
       " '0',\n",
       " '0.515750',\n",
       " '0.167500',\n",
       " '0.692250',\n",
       " '0.599000',\n",
       " 'IMG_20180203_120557.jpg']"
      ]
     },
     "execution_count": 13,
     "metadata": {},
     "output_type": "execute_result"
    }
   ],
   "source": [
    "line = [i.strip() for i in context.strip().split('\\t')]\n",
    "line"
   ]
  },
  {
   "cell_type": "code",
   "execution_count": 14,
   "metadata": {},
   "outputs": [],
   "source": [
    "item = [int(line[0])] + [line[-1]] + [float(i) for i in line[1:-1]]"
   ]
  },
  {
   "cell_type": "code",
   "execution_count": null,
   "metadata": {},
   "outputs": [],
   "source": []
  },
  {
   "cell_type": "code",
   "execution_count": 15,
   "metadata": {},
   "outputs": [
    {
     "name": "stdout",
     "output_type": "stream",
     "text": [
      "([0.16875, 0.132, 0.38525, 0.6335], 'papercup')\n",
      "([0.51575, 0.1675, 0.69225, 0.599], 'papercup')\n"
     ]
    }
   ],
   "source": [
    "z=zip(bndboxs,names)\n",
    "for i in z:\n",
    "    print(i)"
   ]
  },
  {
   "cell_type": "code",
   "execution_count": 16,
   "metadata": {},
   "outputs": [
    {
     "data": {
      "text/plain": [
       "1"
      ]
     },
     "execution_count": 16,
     "metadata": {},
     "output_type": "execute_result"
    }
   ],
   "source": [
    "l = ['aa','bb']\n",
    "l.index('bb')"
   ]
  },
  {
   "cell_type": "code",
   "execution_count": 17,
   "metadata": {},
   "outputs": [],
   "source": [
    "\n",
    "from mxnet import image\n",
    "import numpy as np\n",
    "import mxnet as mx\n",
    "from utils import show_images\n",
    "\n",
    "data_shape = (3,512,512)\n",
    "batch_size = 2\n",
    "std = np.array([58.395, 57.12, 57.375])\n",
    "rgb_mean = np.array([130.063048, 129.967301, 124.410760])\n",
    "ctx = mx.gpu(0)\n",
    "resize = (512,512)\n",
    "\n",
    "def get_iterators(rec_prefix, data_shape, batch_size):\n",
    "    class_names = ['papercup']\n",
    "    num_class = len(class_names)\n",
    "    train_iter = image.ImageDetIter(\n",
    "        batch_size=batch_size,\n",
    "        data_shape=data_shape,\n",
    "        path_imgrec=rec_prefix + '_train.rec',\n",
    "        path_imgidx=rec_prefix + '_train.idx',\n",
    "        shuffle=True,\n",
    "        mean=True,\n",
    "        std=True,\n",
    "# \n",
    "        pad_val=(rgb_mean[0], rgb_mean[1], rgb_mean[2]),\n",
    "#         min_object_covered=0.95,\n",
    "#         max_attempts=200,\n",
    "#         brightness=0.2,\n",
    "#         contrast=0.2,\n",
    "#         saturation=0.2,\n",
    "#         hue=0.05,\n",
    "#         aspect_ratio_range=(0.5, 2),\n",
    "#         pca_noise=0.01,\n",
    "    )\n",
    "\n",
    "    valid_iter = image.ImageDetIter(\n",
    "        batch_size=batch_size,\n",
    "        data_shape=data_shape,\n",
    "        path_imgrec=rec_prefix + '_val.rec',\n",
    "        shuffle=False,\n",
    "        mean=True,\n",
    "        std=True\n",
    "    )\n",
    "\n",
    "    return train_iter, valid_iter, class_names, num_class\n",
    "    "
   ]
  },
  {
   "cell_type": "code",
   "execution_count": 18,
   "metadata": {},
   "outputs": [
    {
     "data": {
      "image/png": "[encoded data removed]",
      "text/plain": [
       "<Figure size 576x288 with 8 Axes>"
      ]
     },
     "metadata": {},
     "output_type": "display_data"
    },
    {
     "name": "stdout",
     "output_type": "stream",
     "text": [
      "(2, 2, 5)\n"
     ]
    }
   ],
   "source": [
    "rec_prefix = './dataset/data/rec/img_'+str(resize[0])+'_'+str(resize[1])\n",
    "train_data,val_data,class_names,num_class=get_iterators(rec_prefix,data_shape,batch_size)\n",
    "train_data.reset()\n",
    "batch=train_data.next()\n",
    "images = batch.data[0][:]\n",
    "labels = batch.label[0][:]\n",
    "show_images(images.asnumpy(),labels.asnumpy(),rgb_mean,std,show_text=True,fontsize=6,MN=(2,4))\n",
    "\n",
    "print(labels.shape)"
   ]
  },
  {
   "cell_type": "code",
   "execution_count": 19,
   "metadata": {},
   "outputs": [],
   "source": [
    "from mxnet import gluon\n",
    "from mxnet.gluon import nn\n",
    "from mxnet.gluon import model_zoo\n",
    "from mxnet.ndarray.contrib import MultiBoxPrior\n",
    "from mxnet import ndarray as nd\n",
    "import mxnet as mx\n",
    "\n",
    "def get_alexnet_conv(ctx):\n",
    "    alexnet = model_zoo.vision.alexnet(pretrained=True,ctx=ctx)\n",
    "    net = nn.HybridSequential()\n",
    "    net.add(*(alexnet.features[:8]))\n",
    "    return net\n",
    "\n",
    "def down_sample(num_filter):\n",
    "    out = nn.HybridSequential()\n",
    "    # extract features which used to output as SSD\n",
    "    for _ in range(2):\n",
    "        out.add(nn.Conv2D(num_filter,kernel_size=3,strides=1,padding=1))\n",
    "        out.add(nn.BatchNorm())\n",
    "        out.add(nn.Activation('relu'))\n",
    "    out.add(nn.MaxPool2D(pool_size=2))\n",
    "    return out "
   ]
  },
  {
   "cell_type": "code",
   "execution_count": 20,
   "metadata": {},
   "outputs": [
    {
     "data": {
      "text/plain": [
       "(16, 8, 16, 16)"
      ]
     },
     "execution_count": 20,
     "metadata": {},
     "output_type": "execute_result"
    }
   ],
   "source": [
    "x = nd.random_normal(shape=(16,3,32,32))\n",
    "net = down_sample(8)\n",
    "net.initialize()\n",
    "out = net(x)\n",
    "\n",
    "out.shape"
   ]
  },
  {
   "cell_type": "code",
   "execution_count": 21,
   "metadata": {},
   "outputs": [],
   "source": [
    "\n",
    "#classify: anchors*(num_classes+1)\n",
    "def class_predictor(num_class,num_anchors):\n",
    "    return nn.Conv2D(num_anchors*(num_class+1),kernel_size=3,strides=1,padding=1)\n",
    "\n",
    "#regression: anchors*4\n",
    "def box_predictor(num_anchors):\n",
    "    return nn.Conv2D(num_anchors*4,kernel_size=3,strides=1,padding=1)\n",
    "\n"
   ]
  },
  {
   "cell_type": "code",
   "execution_count": 22,
   "metadata": {},
   "outputs": [],
   "source": [
    "#anchor box (need kmeans)\n",
    "# sizes_list = [[0.10416667, 0.17361111], [0.18624024, 0.34354575], [.37, .619],\n",
    "#               [.71, .79], [.88, .961]]\n",
    "sizes_list = [[0.17720574, 0.23724939], [0.30426919, 0.40458742], [.37, .619],\n",
    "              [.71, .79], [.88, .961]]\n",
    "\n",
    "ratios_list = [[1,2,.5]]*len(sizes_list)\n",
    "anchors=[]\n",
    "x = nd.random.uniform(shape=(1,3,40,40))\n"
   ]
  },
  {
   "cell_type": "code",
   "execution_count": 23,
   "metadata": {},
   "outputs": [
    {
     "data": {
      "text/plain": [
       "5"
      ]
     },
     "execution_count": 23,
     "metadata": {},
     "output_type": "execute_result"
    }
   ],
   "source": [
    "for i in range(len(sizes_list)):\n",
    "    anchors.append(MultiBoxPrior(x,sizes=sizes_list[i],ratios=ratios_list[i]))    \n",
    "len(anchors)\n",
    "# anchors[5]"
   ]
  },
  {
   "cell_type": "code",
   "execution_count": 24,
   "metadata": {},
   "outputs": [
    {
     "data": {
      "text/plain": [
       "(1, 6400, 4)"
      ]
     },
     "execution_count": 24,
     "metadata": {},
     "output_type": "execute_result"
    }
   ],
   "source": [
    "anchors[-1].shape"
   ]
  },
  {
   "cell_type": "code",
   "execution_count": 25,
   "metadata": {},
   "outputs": [
    {
     "data": {
      "text/plain": [
       "\n",
       "[[[-0.07610287 -0.07610287  0.10110287  0.10110287]\n",
       "  [-0.1061247  -0.10612469  0.13112471  0.13112469]\n",
       "  [-0.11280337 -0.05015169  0.13780338  0.0751517 ]\n",
       "  ..., \n",
       "  [ 0.86887532  0.86887532  1.10612476  1.10612476]\n",
       "  [ 0.86219662  0.92484832  1.11280334  1.05015171]\n",
       "  [ 0.92484832  0.86219662  1.05015171  1.11280346]]]\n",
       "<NDArray 1x6400x4 @cpu(0)>"
      ]
     },
     "execution_count": 25,
     "metadata": {},
     "output_type": "execute_result"
    }
   ],
   "source": [
    "y = MultiBoxPrior(x,sizes=sizes_list[0],ratios=ratios_list[4])\n",
    "y"
   ]
  },
  {
   "cell_type": "code",
   "execution_count": 26,
   "metadata": {},
   "outputs": [
    {
     "data": {
      "text/plain": [
       "(40, 40, 4, 4)"
      ]
     },
     "execution_count": 26,
     "metadata": {},
     "output_type": "execute_result"
    }
   ],
   "source": [
    "box = y.reshape((40,40,-1,4))\n",
    "box.shape"
   ]
  },
  {
   "cell_type": "code",
   "execution_count": 27,
   "metadata": {},
   "outputs": [],
   "source": [
    "%matplotlib inline\n",
    "import matplotlib as mpl\n",
    "mpl.rcParams['figure.dpi']= 60\n",
    "import matplotlib.pyplot as plt\n",
    "\n",
    "# def box_to_rec(box,color,linewidth=2):\n",
    "#     box = box.asnumpy()\n",
    "#     return plt.Rectangle(box[0],box[1],box[2]-box[0],box[3]-box[1],fill=False,edgecolor=color,linewidth=linewidth)"
   ]
  },
  {
   "cell_type": "code",
   "execution_count": 28,
   "metadata": {},
   "outputs": [],
   "source": [
    "def box_to_rect(box, color, linewidth=3):\n",
    "    \"\"\"convert an anchor box to a matplotlib rectangle\"\"\"\n",
    "    box = box.asnumpy()\n",
    "    return plt.Rectangle((box[0], box[1]), box[2]-box[0], box[3]-box[1],\n",
    "                         fill=False, edgecolor=color, linewidth=linewidth)\n"
   ]
  },
  {
   "cell_type": "code",
   "execution_count": 29,
   "metadata": {},
   "outputs": [
    {
     "data": {
      "image/png": "[encoded data removed]",
      "text/plain": [
       "<Figure size 360x240 with 1 Axes>"
      ]
     },
     "metadata": {},
     "output_type": "display_data"
    }
   ],
   "source": [
    "colors=['blue','green','red','black','magenta']\n",
    "plt.imshow(nd.ones((40,40,3)).asnumpy())\n",
    "\n",
    "for j in range(len(anchors)): \n",
    "    box = anchors[j].reshape((40,40,-1,4))\n",
    "    bbox=box[20,20,:,:]\n",
    "    for i in range(bbox.shape[0]):\n",
    "        plt.gca().add_patch(box_to_rect(bbox[i,:]*40,colors[i]))\n",
    "#         print(bbox[i,:]*40)\n",
    "plt.show()"
   ]
  },
  {
   "cell_type": "code",
   "execution_count": 30,
   "metadata": {},
   "outputs": [],
   "source": [
    "# batch.data[0]"
   ]
  },
  {
   "cell_type": "code",
   "execution_count": 31,
   "metadata": {},
   "outputs": [
    {
     "name": "stdout",
     "output_type": "stream",
     "text": [
      "(2, 3, 512, 512) (2, 2, 5)\n",
      "predict scale  0 (2, 256, 64, 64)  with  (1, 16384, 4)  anchors\n",
      "predict scale  1 (2, 128, 32, 32)  with  (1, 4096, 4)  anchors\n",
      "predict scale  2 (2, 128, 16, 16)  with  (1, 1024, 4)  anchors\n",
      "predict scale  3 (2, 128, 8, 8)  with  (1, 256, 4)  anchors\n",
      "predict scale  4 (2, 128, 1, 1)  with  (1, 4, 4)  anchors\n"
     ]
    },
    {
     "data": {
      "text/plain": [
       "(2, 21764, 2)"
      ]
     },
     "execution_count": 31,
     "metadata": {},
     "output_type": "execute_result"
    }
   ],
   "source": [
    "import model\n",
    "from mxnet.ndarray.contrib import MultiBoxTarget, MultiBoxPrior\n",
    "# x = nd.random_normal(shape=(1,3,32,32))\n",
    "x = batch.data[0].as_in_context(mx.gpu(0))\n",
    "label = batch.label[0].as_in_context(mx.gpu(0))\n",
    "print(x.shape,label.shape)\n",
    "net = model.SSD(num_class=1,verbose=True)\n",
    "_anchor,_box_preds,_cls_preds = net(x)\n",
    "_cls_preds.shape"
   ]
  },
  {
   "cell_type": "code",
   "execution_count": 32,
   "metadata": {},
   "outputs": [],
   "source": [
    "box_offset,box_mask,cls_labels = MultiBoxTarget(_anchor,batch.label[0].as_in_context(mx.gpu(0)),_cls_preds.transpose((0,2,1)))"
   ]
  },
  {
   "cell_type": "code",
   "execution_count": 33,
   "metadata": {},
   "outputs": [
    {
     "data": {
      "text/plain": [
       "((2, 87056), (2, 87056), (2, 21764))"
      ]
     },
     "execution_count": 33,
     "metadata": {},
     "output_type": "execute_result"
    }
   ],
   "source": [
    "box_offset.shape,box_mask.shape,cls_labels.shape"
   ]
  },
  {
   "cell_type": "code",
   "execution_count": 34,
   "metadata": {},
   "outputs": [],
   "source": [
    "from train import *\n",
    "box_loss = SmoothL1Loss()\n",
    "cls_loss = FocalLoss()"
   ]
  },
  {
   "cell_type": "code",
   "execution_count": 35,
   "metadata": {},
   "outputs": [],
   "source": [
    "train_data1,valid_data1,class_names1,num_classes1 = get_iterators(rec_prefix,data_shape,batch_size)"
   ]
  },
  {
   "cell_type": "code",
   "execution_count": 36,
   "metadata": {},
   "outputs": [
    {
     "data": {
      "text/plain": [
       "2"
      ]
     },
     "execution_count": 36,
     "metadata": {},
     "output_type": "execute_result"
    }
   ],
   "source": [
    "# train_data1.next().label[0][0].shape[0]\n",
    "valid_data1.next().label[0][0].shape[0]"
   ]
  },
  {
   "cell_type": "code",
   "execution_count": 37,
   "metadata": {},
   "outputs": [],
   "source": [
    "if train_data1.next().label[0][0].shape[0] < 3:\n",
    "    train_data1.reshape(label_shape=(3, 5))\n",
    "    valid_data1.reshape(label_shape=(3, 5))\n",
    "# valid_data1=train_data1.sync_label_shape(valid_data1)\n",
    "# valid_data1.next().label[0].shape"
   ]
  },
  {
   "cell_type": "code",
   "execution_count": 38,
   "metadata": {},
   "outputs": [
    {
     "name": "stdout",
     "output_type": "stream",
     "text": [
      "\n",
      "[[ 0.          0.67629874  0.24200748  0.79075515  0.79235953]\n",
      " [-1.         -1.         -1.         -1.         -1.        ]\n",
      " [-1.         -1.         -1.         -1.         -1.        ]]\n",
      "<NDArray 3x5 @cpu(0)>\n"
     ]
    },
    {
     "data": {
      "text/plain": [
       "\n",
       "[[ 0.          0.35874999  0.50199997  0.50524998  0.90200001]\n",
       " [-1.         -1.         -1.         -1.         -1.        ]\n",
       " [-1.         -1.         -1.         -1.         -1.        ]]\n",
       "<NDArray 3x5 @cpu(0)>"
      ]
     },
     "execution_count": 38,
     "metadata": {},
     "output_type": "execute_result"
    }
   ],
   "source": [
    "# valid_data1.label_shape\n",
    "# train_data1.label_shape\n",
    "print(train_data1.next().label[0][0])\n",
    "valid_data1.reset()\n",
    "valid_data1.next().label[0][0]"
   ]
  },
  {
   "cell_type": "code",
   "execution_count": 39,
   "metadata": {},
   "outputs": [],
   "source": [
    "net1 = model.SSD(num_class=1,verbose=True)\n",
    "# net1.hybridize()"
   ]
  },
  {
   "cell_type": "code",
   "execution_count": 40,
   "metadata": {},
   "outputs": [],
   "source": [
    "# mytrain(net1,train_data1,0,200,cls_loss,box_loss)"
   ]
  },
  {
   "cell_type": "code",
   "execution_count": 41,
   "metadata": {},
   "outputs": [
    {
     "name": "stdout",
     "output_type": "stream",
     "text": [
      "(2, 3, 512, 512) (2, 3, 5)\n"
     ]
    }
   ],
   "source": [
    "# train_data.reset()\n",
    "# # train_data.next().label[0]\n",
    "# for batch in train_data:\n",
    "#     data = batch.data[0]\n",
    "#     label = batch.label[0]\n",
    "#     print(label.shape)\n",
    "#     break\n",
    "batch1 = train_data1.next()\n",
    "data1 = batch1.data[0][:].as_in_context(mx.gpu(0)) \n",
    "label1 = batch1.label[0][:].as_in_context(mx.gpu(0))\n",
    "print(data1.shape,label1.shape)\n",
    "\n",
    "                      "
   ]
  },
  {
   "cell_type": "code",
   "execution_count": 42,
   "metadata": {
    "scrolled": true
   },
   "outputs": [
    {
     "name": "stdout",
     "output_type": "stream",
     "text": [
      "predict scale  0 (2, 256, 64, 64)  with  (1, 16384, 4)  anchors\n",
      "predict scale  1 (2, 128, 32, 32)  with  (1, 4096, 4)  anchors\n",
      "predict scale  2 (2, 128, 16, 16)  with  (1, 1024, 4)  anchors\n",
      "predict scale  3 (2, 128, 8, 8)  with  (1, 256, 4)  anchors\n",
      "predict scale  4 (2, 128, 1, 1)  with  (1, 4, 4)  anchors\n",
      "(1, 21764, 4) (2, 87056) (2, 21764, 2)\n"
     ]
    }
   ],
   "source": [
    "\n",
    "# net1\n",
    "anchor,box_preds,cls_preds = net1(data1)\n",
    "print(anchor.shape,box_preds.shape,cls_preds.shape)\n",
    "\n"
   ]
  },
  {
   "cell_type": "code",
   "execution_count": 43,
   "metadata": {},
   "outputs": [
    {
     "data": {
      "text/plain": [
       "((2, 87056), (2, 87056), (2, 21764))"
      ]
     },
     "execution_count": 43,
     "metadata": {},
     "output_type": "execute_result"
    }
   ],
   "source": [
    "box_offset, box_mask, cls_labels = MultiBoxTarget(anchor, label, cls_preds.transpose(axes=(0, 2, 1)),negative_mining_ratio=3.0)\n",
    "box_offset.shape,box_mask.shape,cls_labels.shape"
   ]
  },
  {
   "cell_type": "code",
   "execution_count": 45,
   "metadata": {},
   "outputs": [
    {
     "name": "stdout",
     "output_type": "stream",
     "text": [
      "\n",
      "[ 0.06220031  0.06182978]\n",
      "<NDArray 2 @gpu(0)> \n",
      "[ 0.  0.]\n",
      "<NDArray 2 @gpu(0)>\n"
     ]
    },
    {
     "data": {
      "text/plain": [
       "\n",
       "[ 0.06220031  0.06182978]\n",
       "<NDArray 2 @gpu(0)>"
      ]
     },
     "execution_count": 45,
     "metadata": {},
     "output_type": "execute_result"
    }
   ],
   "source": [
    "loss1 = cls_loss(cls_preds, cls_labels)\n",
    "loss2 = box_loss(box_preds, box_offset, box_mask)\n",
    "print(loss1,loss2)\n",
    "loss = loss1 + loss2\n",
    "loss"
   ]
  },
  {
   "cell_type": "code",
   "execution_count": null,
   "metadata": {},
   "outputs": [],
   "source": [
    "# "
   ]
  },
  {
   "cell_type": "code",
   "execution_count": null,
   "metadata": {},
   "outputs": [],
   "source": [
    "# lr = 0.5\n",
    "# epoch: 199 time: 13.84 loss: 0.0356, 0.0591 lr: 0.0625\n",
    "# train mae: 0.0020 AP: 0.6569\n",
    "# valid mae: 0.0030 AP: 0.4481\n"
   ]
  },
  {
   "cell_type": "code",
   "execution_count": null,
   "metadata": {},
   "outputs": [],
   "source": []
  }
 ],
 "metadata": {
  "kernelspec": {
   "display_name": "Python 3",
   "language": "python",
   "name": "python3"
  },
  "language_info": {
   "codemirror_mode": {
    "name": "ipython",
    "version": 3
   },
   "file_extension": ".py",
   "mimetype": "text/x-python",
   "name": "python",
   "nbconvert_exporter": "python",
   "pygments_lexer": "ipython3",
   "version": "3.6.4"
  }
 },
 "nbformat": 4,
 "nbformat_minor": 2
}
