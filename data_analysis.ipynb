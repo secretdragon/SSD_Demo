{
 "cells": [
  {
   "cell_type": "code",
   "execution_count": 1,
   "metadata": {},
   "outputs": [],
   "source": [
    "import numpy as np\n",
    "import mxnet as mx\n",
    "from data_loader import get_iterators\n",
    "from utils import *\n"
   ]
  },
  {
   "cell_type": "markdown",
   "metadata": {},
   "source": [
    "数据分析主要对anchor的W和H进行分类；\n",
    "SSD的anchor选择是先对size_list[i,i+1]的值进行等比例缩放，size_list[i]到size_list[i+1]的变化作为当前输出层的anchor选择，然后才对ratios的[1,2,.5]三个比例进行长宽比缩放。（原文方法为5个anchor，分别为[i/sqrt(2),i*sqrt(2)],[i+1/sqrt(2),i+1*sqrt(2)]，[i/sqrt(.5),i*sqrt(.5)]，[i+1/sqrt(.5),i+1 * sqrt(.5)],[sqrt(i * (i+1)),sqrt(i * (i+1))]）"
   ]
  },
  {
   "cell_type": "code",
   "execution_count": 13,
   "metadata": {},
   "outputs": [
    {
     "name": "stdout",
     "output_type": "stream",
     "text": [
      "(4, 2, 5)\n"
     ]
    },
    {
     "data": {
      "text/plain": [
       "\n",
       "[[ 0.          0.32680622  0.28461432  0.41461027  0.5965324 ]\n",
       " [-1.         -1.         -1.         -1.         -1.        ]]\n",
       "<NDArray 2x5 @cpu(0)>"
      ]
     },
     "execution_count": 13,
     "metadata": {},
     "output_type": "execute_result"
    }
   ],
   "source": [
    "data_shape = (3,512,512)\n",
    "batch_size = 4\n",
    "std = np.array([58.395, 57.12, 57.375])\n",
    "rgb_mean = np.array([130.063048, 129.967301, 124.410760]) \n",
    "ctx = mx.gpu(0)\n",
    "resize = data_shape[1:]\n",
    "rec_prefix = './dataset/data/rec/img_'+str(resize[0])+'_'+str(resize[1])\n",
    "train_data,valid_data,class_names,num_classes=get_iterators(rec_prefix,\n",
    "                                                            data_shape,batch_size)\n",
    "train_data.reset()\n",
    "batch= train_data.next()\n",
    "images = batch.data[0][:]\n",
    "labels = batch.label[0][:]\n",
    "print(labels.shape)\n",
    "labels[0]"
   ]
  },
  {
   "cell_type": "code",
   "execution_count": 54,
   "metadata": {},
   "outputs": [],
   "source": [
    "label=None\n",
    "import mxnet.ndarray as nd\n",
    "train_data.reset()\n",
    "for i,batch in enumerate(train_data):\n",
    "    if label is None:\n",
    "        label = batch.label[0]\n",
    "    else:\n",
    "        label = nd.concat(label,batch.label[0],dim=0)\n",
    "label = label.reshape((-1,5)).asnumpy()"
   ]
  },
  {
   "cell_type": "code",
   "execution_count": 55,
   "metadata": {},
   "outputs": [],
   "source": [
    "# label[:,0] != -1"
   ]
  },
  {
   "cell_type": "code",
   "execution_count": 59,
   "metadata": {},
   "outputs": [
    {
     "name": "stdout",
     "output_type": "stream",
     "text": [
      "(108, 5)\n"
     ]
    }
   ],
   "source": [
    "# choose anchors of dataset\n",
    "label = label[label[:,0] != -1, :]\n",
    "print(label.shape)"
   ]
  },
  {
   "cell_type": "code",
   "execution_count": 72,
   "metadata": {},
   "outputs": [
    {
     "name": "stdout",
     "output_type": "stream",
     "text": [
      "w std:  0.0698477  mean: 0.152994\n",
      "h std:  0.164604  mean: 0.432482\n"
     ]
    }
   ],
   "source": [
    "w = label[:,3] - label[:,1]\n",
    "h = label[:,4] - label[:,2]\n",
    "print('w std: ',np.std(w),' mean:',np.mean(w))\n",
    "print('h std: ',np.std(h),' mean:',np.mean(h))"
   ]
  },
  {
   "cell_type": "code",
   "execution_count": 91,
   "metadata": {},
   "outputs": [
    {
     "data": {
      "text/plain": [
       "<matplotlib.legend.Legend at 0x7f985f3b9f98>"
      ]
     },
     "execution_count": 91,
     "metadata": {},
     "output_type": "execute_result"
    },
    {
     "data": {
      "image/png": "[encoded data removed]",
      "text/plain": [
       "<Figure size 432x288 with 2 Axes>"
      ]
     },
     "metadata": {},
     "output_type": "display_data"
    }
   ],
   "source": [
    "import matplotlib.pyplot as plt\n",
    "plt.subplot(121)\n",
    "plt.hist(w)\n",
    "plt.legend(['w'])\n",
    "plt.subplot(122)\n",
    "plt.hist(h)\n",
    "plt.legend(['h'])"
   ]
  },
  {
   "cell_type": "code",
   "execution_count": 98,
   "metadata": {},
   "outputs": [
    {
     "name": "stdout",
     "output_type": "stream",
     "text": [
      "[ 0.17720574  0.23724939  0.30426919  0.54108638]\n",
      "[ 0.09556162  0.13453832  0.19024843  0.36937141]\n",
      "[ 0.31071246  0.40458742  0.52945453  0.99641377]\n"
     ]
    }
   ],
   "source": [
    "#找到样本的4分位点\n",
    "def find_seq(b,num=4):\n",
    "    b = np.sort(b)\n",
    "    N = b.shape[0]\n",
    "    idx = np.array(np.linspace(0,N,num+1)).astype(int)-1\n",
    "    return b[idx[1:]]\n",
    "l = np.sqrt(w * h)\n",
    "print(find_seq(l))\n",
    "print(find_seq(w))\n",
    "print(find_seq(h))"
   ]
  },
  {
   "cell_type": "markdown",
   "metadata": {},
   "source": [
    "# calc mean and std"
   ]
  },
  {
   "cell_type": "code",
   "execution_count": 104,
   "metadata": {},
   "outputs": [],
   "source": [
    "mean,std = cal_mean_std('./dataset/data/img512_512')"
   ]
  },
  {
   "cell_type": "code",
   "execution_count": 103,
   "metadata": {},
   "outputs": [
    {
     "data": {
      "text/plain": [
       "(array([ 130.06304823,  129.96730104,  124.41076044]),\n",
       " array([ 61.04467501,  60.03631381,  60.7750983 ]))"
      ]
     },
     "execution_count": 103,
     "metadata": {},
     "output_type": "execute_result"
    }
   ],
   "source": [
    "mean,std"
   ]
  }
 ],
 "metadata": {
  "kernelspec": {
   "display_name": "Python 2",
   "language": "python",
   "name": "python2"
  },
  "language_info": {
   "codemirror_mode": {
    "name": "ipython",
    "version": 3
   },
   "file_extension": ".py",
   "mimetype": "text/x-python",
   "name": "python",
   "nbconvert_exporter": "python",
   "pygments_lexer": "ipython3",
   "version": "3.6.4"
  }
 },
 "nbformat": 4,
 "nbformat_minor": 1
}
